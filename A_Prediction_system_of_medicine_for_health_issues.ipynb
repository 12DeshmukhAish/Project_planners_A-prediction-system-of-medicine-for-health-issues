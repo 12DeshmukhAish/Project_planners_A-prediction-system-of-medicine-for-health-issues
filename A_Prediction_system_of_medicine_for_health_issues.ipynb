{
  "nbformat": 4,
  "nbformat_minor": 0,
  "metadata": {
    "colab": {
      "provenance": [],
      "authorship_tag": "ABX9TyMzjnbwtQLML5V+EhYnFV2c",
      "include_colab_link": true
    },
    "kernelspec": {
      "name": "python3",
      "display_name": "Python 3"
    },
    "language_info": {
      "name": "python"
    }
  },
  "cells": [
    {
      "cell_type": "markdown",
      "metadata": {
        "id": "view-in-github",
        "colab_type": "text"
      },
      "source": [
        "<a href=\"https://colab.research.google.com/github/12DeshmukhAish/Project_planners_A-prediction-system-of-medicine-for-health-issues/blob/main/A_Prediction_system_of_medicine_for_health_issues.ipynb\" target=\"_parent\"><img src=\"https://colab.research.google.com/assets/colab-badge.svg\" alt=\"Open In Colab\"/></a>"
      ]
    },
    {
      "cell_type": "code",
      "execution_count": null,
      "metadata": {
        "id": "7HGAoVlynjwR"
      },
      "outputs": [],
      "source": [
        "import pandas as pd\n",
        "import random"
      ]
    },
    {
      "cell_type": "code",
      "execution_count": null,
      "metadata": {
        "id": "PUmUb_lekfc-"
      },
      "outputs": [],
      "source": [
        "import pandas as pd\n",
        "from sklearn.model_selection import train_test_split\n",
        "from sklearn.tree import DecisionTreeClassifier\n",
        "from sklearn.feature_extraction.text import TfidfVectorizer"
      ]
    },
    {
      "cell_type": "code",
      "source": [
        "diseases = [\n",
        "    \"Headache\", \"Fever\", \"Cough\", \"Sore throat\", \"Stomach ache\", \"Diarrhea\",\n",
        "    \"Common cold\", \"Flu\", \"Allergies\", \"Sinusitis\", \"Bronchitis\", \"Asthma\",\n",
        "    \"Pneumonia\", \"Tonsillitis\", \"Ear infection\", \"Urinary tract infection\",\n",
        "    \"Kidney stones\", \"Gastroenteritis\", \"Appendicitis\", \"Gastritis\", \"Heartburn\",\n",
        "    \"Hypertension\", \"Arrhythmia\", \"Myocardial infarction\", \"Angina\",\n",
        "    \"Deep vein thrombosis\", \"Atherosclerosis\", \"Migraine\", \"Cluster headache\",\n",
        "    \"Vertigo\", \"Glaucoma\", \"Conjunctivitis\", \"Cataracts\", \"Dry eye syndrome\",\n",
        "    \"Acne\", \"Eczema\", \"Psoriasis\", \"Rosacea\", \"Dandruff\", \"Hives\", \"Athlete's foot\",\n",
        "    \"Ringworm\", \"Yeast infection\", \"Genital herpes\", \"Chlamydia\", \"Gonorrhea\",\n",
        "    \"Syphilis\", \"Human papillomavirus (HPV)\", \"HIV/AIDS\", \"Hepatitis\",\n",
        "    \"Tuberculosis\", \"Malaria\", \"Dengue fever\", \"Chikungunya\", \"Zika virus\",\n",
        "    \"Lyme disease\", \"Rheumatoid arthritis\", \"Osteoarthritis\", \"Gout\",\n",
        "    \"Fibromyalgia\", \"Lupus\", \"Diabetes\", \"Hypothyroidism\", \"Hyperthyroidism\",\n",
        "    \"Cushing's syndrome\", \"Addison's disease\", \"Epilepsy\", \"Alzheimer's disease\",\n",
        "    \"Parkinson's disease\", \"Multiple sclerosis\", \"Migraine\", \"Depression\",\n",
        "    \"Anxiety\", \"Bipolar disorder\", \"Schizophrenia\", \"Obsessive-compulsive disorder\",\n",
        "    \"Eating disorders\", \"Insomnia\", \"Sleep apnea\", \"Chronic fatigue syndrome\",\n",
        "    \"Obesity\", \"Anemia\", \"Leukemia\", \"Hemophilia\", \"Sickle cell anemia\",\n",
        "    \"Osteoporosis\", \"Colon cancer\", \"Breast cancer\", \"Lung cancer\", \"Prostate cancer\",\n",
        "    \"Skin cancer\", \"Pancreatic cancer\", \"Liver cancer\", \"Kidney cancer\",\n",
        "    \"Bladder cancer\", \"Thyroid cancer\"\n",
        "]\n",
        "\n",
        "medicines = [\n",
        "    \"Aspirin\", \"Paracetamol\", \"Ibuprofen\", \"Acetaminophen\", \"Cough syrup\",\n",
        "    \"Throat lozenges\", \"Antibiotics\", \"Antiviral medication\", \"Antihistamines\",\n",
        "    \"Nasal decongestants\", \"Bronchodilators\", \"Corticosteroids\", \"Antacids\",\n",
        "    \"Proton pump inhibitors\", \"Antihypertensives\", \"Beta blockers\",\n",
        "    \"Anticoagulants\", \"Antimigraine medications\", \"Anti-inflammatory drugs\",\n",
        "    \"Antifungal cream\", \"Antiviral cream\", \"Antibacterial cream\", \"Antiseptic solution\",\n",
        "    \"Antiviral drugs\", \"Antiretroviral therapy\", \"Antifungal medication\",\n",
        "    \"Antibacterial medication\", \"Antiparasitic medication\", \"Antimalarial drugs\",\n",
        "    \"Immunosuppressants\", \"Biologic therapies\", \"Painkillers\", \"Antidepressants\",\n",
        "]\n"
      ],
      "metadata": {
        "id": "u1dpGipLqhrD"
      },
      "execution_count": null,
      "outputs": []
    },
    {
      "cell_type": "code",
      "source": [
        "data = pd.DataFrame(columns=['Health Issue', 'Medicine'])"
      ],
      "metadata": {
        "id": "JX5X7u8Cn7Um"
      },
      "execution_count": null,
      "outputs": []
    },
    {
      "cell_type": "code",
      "source": [
        "for _ in range(100):\n",
        "    disease = random.choice(diseases)\n",
        "    medicine = random.choice(medicines)\n",
        "    data = data.append({'Health Issue': disease, 'Medicine': medicine}, ignore_index=True)"
      ],
      "metadata": {
        "colab": {
          "base_uri": "https://localhost:8080/"
        },
        "id": "xcyYBUIGn7YS",
        "outputId": "c4a42607-0a02-4c72-b708-e86d7cc8c341"
      },
      "execution_count": null,
      "outputs": [
        {
          "output_type": "stream",
          "name": "stderr",
          "text": [
            "<ipython-input-18-676ed8a9fd5e>:4: FutureWarning: The frame.append method is deprecated and will be removed from pandas in a future version. Use pandas.concat instead.\n",
            "  data = data.append({'Health Issue': disease, 'Medicine': medicine}, ignore_index=True)\n",
            "<ipython-input-18-676ed8a9fd5e>:4: FutureWarning: The frame.append method is deprecated and will be removed from pandas in a future version. Use pandas.concat instead.\n",
            "  data = data.append({'Health Issue': disease, 'Medicine': medicine}, ignore_index=True)\n",
            "<ipython-input-18-676ed8a9fd5e>:4: FutureWarning: The frame.append method is deprecated and will be removed from pandas in a future version. Use pandas.concat instead.\n",
            "  data = data.append({'Health Issue': disease, 'Medicine': medicine}, ignore_index=True)\n",
            "<ipython-input-18-676ed8a9fd5e>:4: FutureWarning: The frame.append method is deprecated and will be removed from pandas in a future version. Use pandas.concat instead.\n",
            "  data = data.append({'Health Issue': disease, 'Medicine': medicine}, ignore_index=True)\n",
            "<ipython-input-18-676ed8a9fd5e>:4: FutureWarning: The frame.append method is deprecated and will be removed from pandas in a future version. Use pandas.concat instead.\n",
            "  data = data.append({'Health Issue': disease, 'Medicine': medicine}, ignore_index=True)\n",
            "<ipython-input-18-676ed8a9fd5e>:4: FutureWarning: The frame.append method is deprecated and will be removed from pandas in a future version. Use pandas.concat instead.\n",
            "  data = data.append({'Health Issue': disease, 'Medicine': medicine}, ignore_index=True)\n",
            "<ipython-input-18-676ed8a9fd5e>:4: FutureWarning: The frame.append method is deprecated and will be removed from pandas in a future version. Use pandas.concat instead.\n",
            "  data = data.append({'Health Issue': disease, 'Medicine': medicine}, ignore_index=True)\n",
            "<ipython-input-18-676ed8a9fd5e>:4: FutureWarning: The frame.append method is deprecated and will be removed from pandas in a future version. Use pandas.concat instead.\n",
            "  data = data.append({'Health Issue': disease, 'Medicine': medicine}, ignore_index=True)\n",
            "<ipython-input-18-676ed8a9fd5e>:4: FutureWarning: The frame.append method is deprecated and will be removed from pandas in a future version. Use pandas.concat instead.\n",
            "  data = data.append({'Health Issue': disease, 'Medicine': medicine}, ignore_index=True)\n",
            "<ipython-input-18-676ed8a9fd5e>:4: FutureWarning: The frame.append method is deprecated and will be removed from pandas in a future version. Use pandas.concat instead.\n",
            "  data = data.append({'Health Issue': disease, 'Medicine': medicine}, ignore_index=True)\n",
            "<ipython-input-18-676ed8a9fd5e>:4: FutureWarning: The frame.append method is deprecated and will be removed from pandas in a future version. Use pandas.concat instead.\n",
            "  data = data.append({'Health Issue': disease, 'Medicine': medicine}, ignore_index=True)\n",
            "<ipython-input-18-676ed8a9fd5e>:4: FutureWarning: The frame.append method is deprecated and will be removed from pandas in a future version. Use pandas.concat instead.\n",
            "  data = data.append({'Health Issue': disease, 'Medicine': medicine}, ignore_index=True)\n",
            "<ipython-input-18-676ed8a9fd5e>:4: FutureWarning: The frame.append method is deprecated and will be removed from pandas in a future version. Use pandas.concat instead.\n",
            "  data = data.append({'Health Issue': disease, 'Medicine': medicine}, ignore_index=True)\n",
            "<ipython-input-18-676ed8a9fd5e>:4: FutureWarning: The frame.append method is deprecated and will be removed from pandas in a future version. Use pandas.concat instead.\n",
            "  data = data.append({'Health Issue': disease, 'Medicine': medicine}, ignore_index=True)\n",
            "<ipython-input-18-676ed8a9fd5e>:4: FutureWarning: The frame.append method is deprecated and will be removed from pandas in a future version. Use pandas.concat instead.\n",
            "  data = data.append({'Health Issue': disease, 'Medicine': medicine}, ignore_index=True)\n",
            "<ipython-input-18-676ed8a9fd5e>:4: FutureWarning: The frame.append method is deprecated and will be removed from pandas in a future version. Use pandas.concat instead.\n",
            "  data = data.append({'Health Issue': disease, 'Medicine': medicine}, ignore_index=True)\n",
            "<ipython-input-18-676ed8a9fd5e>:4: FutureWarning: The frame.append method is deprecated and will be removed from pandas in a future version. Use pandas.concat instead.\n",
            "  data = data.append({'Health Issue': disease, 'Medicine': medicine}, ignore_index=True)\n",
            "<ipython-input-18-676ed8a9fd5e>:4: FutureWarning: The frame.append method is deprecated and will be removed from pandas in a future version. Use pandas.concat instead.\n",
            "  data = data.append({'Health Issue': disease, 'Medicine': medicine}, ignore_index=True)\n",
            "<ipython-input-18-676ed8a9fd5e>:4: FutureWarning: The frame.append method is deprecated and will be removed from pandas in a future version. Use pandas.concat instead.\n",
            "  data = data.append({'Health Issue': disease, 'Medicine': medicine}, ignore_index=True)\n",
            "<ipython-input-18-676ed8a9fd5e>:4: FutureWarning: The frame.append method is deprecated and will be removed from pandas in a future version. Use pandas.concat instead.\n",
            "  data = data.append({'Health Issue': disease, 'Medicine': medicine}, ignore_index=True)\n",
            "<ipython-input-18-676ed8a9fd5e>:4: FutureWarning: The frame.append method is deprecated and will be removed from pandas in a future version. Use pandas.concat instead.\n",
            "  data = data.append({'Health Issue': disease, 'Medicine': medicine}, ignore_index=True)\n",
            "<ipython-input-18-676ed8a9fd5e>:4: FutureWarning: The frame.append method is deprecated and will be removed from pandas in a future version. Use pandas.concat instead.\n",
            "  data = data.append({'Health Issue': disease, 'Medicine': medicine}, ignore_index=True)\n",
            "<ipython-input-18-676ed8a9fd5e>:4: FutureWarning: The frame.append method is deprecated and will be removed from pandas in a future version. Use pandas.concat instead.\n",
            "  data = data.append({'Health Issue': disease, 'Medicine': medicine}, ignore_index=True)\n",
            "<ipython-input-18-676ed8a9fd5e>:4: FutureWarning: The frame.append method is deprecated and will be removed from pandas in a future version. Use pandas.concat instead.\n",
            "  data = data.append({'Health Issue': disease, 'Medicine': medicine}, ignore_index=True)\n",
            "<ipython-input-18-676ed8a9fd5e>:4: FutureWarning: The frame.append method is deprecated and will be removed from pandas in a future version. Use pandas.concat instead.\n",
            "  data = data.append({'Health Issue': disease, 'Medicine': medicine}, ignore_index=True)\n",
            "<ipython-input-18-676ed8a9fd5e>:4: FutureWarning: The frame.append method is deprecated and will be removed from pandas in a future version. Use pandas.concat instead.\n",
            "  data = data.append({'Health Issue': disease, 'Medicine': medicine}, ignore_index=True)\n",
            "<ipython-input-18-676ed8a9fd5e>:4: FutureWarning: The frame.append method is deprecated and will be removed from pandas in a future version. Use pandas.concat instead.\n",
            "  data = data.append({'Health Issue': disease, 'Medicine': medicine}, ignore_index=True)\n",
            "<ipython-input-18-676ed8a9fd5e>:4: FutureWarning: The frame.append method is deprecated and will be removed from pandas in a future version. Use pandas.concat instead.\n",
            "  data = data.append({'Health Issue': disease, 'Medicine': medicine}, ignore_index=True)\n",
            "<ipython-input-18-676ed8a9fd5e>:4: FutureWarning: The frame.append method is deprecated and will be removed from pandas in a future version. Use pandas.concat instead.\n",
            "  data = data.append({'Health Issue': disease, 'Medicine': medicine}, ignore_index=True)\n",
            "<ipython-input-18-676ed8a9fd5e>:4: FutureWarning: The frame.append method is deprecated and will be removed from pandas in a future version. Use pandas.concat instead.\n",
            "  data = data.append({'Health Issue': disease, 'Medicine': medicine}, ignore_index=True)\n",
            "<ipython-input-18-676ed8a9fd5e>:4: FutureWarning: The frame.append method is deprecated and will be removed from pandas in a future version. Use pandas.concat instead.\n",
            "  data = data.append({'Health Issue': disease, 'Medicine': medicine}, ignore_index=True)\n",
            "<ipython-input-18-676ed8a9fd5e>:4: FutureWarning: The frame.append method is deprecated and will be removed from pandas in a future version. Use pandas.concat instead.\n",
            "  data = data.append({'Health Issue': disease, 'Medicine': medicine}, ignore_index=True)\n",
            "<ipython-input-18-676ed8a9fd5e>:4: FutureWarning: The frame.append method is deprecated and will be removed from pandas in a future version. Use pandas.concat instead.\n",
            "  data = data.append({'Health Issue': disease, 'Medicine': medicine}, ignore_index=True)\n",
            "<ipython-input-18-676ed8a9fd5e>:4: FutureWarning: The frame.append method is deprecated and will be removed from pandas in a future version. Use pandas.concat instead.\n",
            "  data = data.append({'Health Issue': disease, 'Medicine': medicine}, ignore_index=True)\n",
            "<ipython-input-18-676ed8a9fd5e>:4: FutureWarning: The frame.append method is deprecated and will be removed from pandas in a future version. Use pandas.concat instead.\n",
            "  data = data.append({'Health Issue': disease, 'Medicine': medicine}, ignore_index=True)\n",
            "<ipython-input-18-676ed8a9fd5e>:4: FutureWarning: The frame.append method is deprecated and will be removed from pandas in a future version. Use pandas.concat instead.\n",
            "  data = data.append({'Health Issue': disease, 'Medicine': medicine}, ignore_index=True)\n",
            "<ipython-input-18-676ed8a9fd5e>:4: FutureWarning: The frame.append method is deprecated and will be removed from pandas in a future version. Use pandas.concat instead.\n",
            "  data = data.append({'Health Issue': disease, 'Medicine': medicine}, ignore_index=True)\n",
            "<ipython-input-18-676ed8a9fd5e>:4: FutureWarning: The frame.append method is deprecated and will be removed from pandas in a future version. Use pandas.concat instead.\n",
            "  data = data.append({'Health Issue': disease, 'Medicine': medicine}, ignore_index=True)\n",
            "<ipython-input-18-676ed8a9fd5e>:4: FutureWarning: The frame.append method is deprecated and will be removed from pandas in a future version. Use pandas.concat instead.\n",
            "  data = data.append({'Health Issue': disease, 'Medicine': medicine}, ignore_index=True)\n",
            "<ipython-input-18-676ed8a9fd5e>:4: FutureWarning: The frame.append method is deprecated and will be removed from pandas in a future version. Use pandas.concat instead.\n",
            "  data = data.append({'Health Issue': disease, 'Medicine': medicine}, ignore_index=True)\n",
            "<ipython-input-18-676ed8a9fd5e>:4: FutureWarning: The frame.append method is deprecated and will be removed from pandas in a future version. Use pandas.concat instead.\n",
            "  data = data.append({'Health Issue': disease, 'Medicine': medicine}, ignore_index=True)\n",
            "<ipython-input-18-676ed8a9fd5e>:4: FutureWarning: The frame.append method is deprecated and will be removed from pandas in a future version. Use pandas.concat instead.\n",
            "  data = data.append({'Health Issue': disease, 'Medicine': medicine}, ignore_index=True)\n",
            "<ipython-input-18-676ed8a9fd5e>:4: FutureWarning: The frame.append method is deprecated and will be removed from pandas in a future version. Use pandas.concat instead.\n",
            "  data = data.append({'Health Issue': disease, 'Medicine': medicine}, ignore_index=True)\n",
            "<ipython-input-18-676ed8a9fd5e>:4: FutureWarning: The frame.append method is deprecated and will be removed from pandas in a future version. Use pandas.concat instead.\n",
            "  data = data.append({'Health Issue': disease, 'Medicine': medicine}, ignore_index=True)\n",
            "<ipython-input-18-676ed8a9fd5e>:4: FutureWarning: The frame.append method is deprecated and will be removed from pandas in a future version. Use pandas.concat instead.\n",
            "  data = data.append({'Health Issue': disease, 'Medicine': medicine}, ignore_index=True)\n",
            "<ipython-input-18-676ed8a9fd5e>:4: FutureWarning: The frame.append method is deprecated and will be removed from pandas in a future version. Use pandas.concat instead.\n",
            "  data = data.append({'Health Issue': disease, 'Medicine': medicine}, ignore_index=True)\n",
            "<ipython-input-18-676ed8a9fd5e>:4: FutureWarning: The frame.append method is deprecated and will be removed from pandas in a future version. Use pandas.concat instead.\n",
            "  data = data.append({'Health Issue': disease, 'Medicine': medicine}, ignore_index=True)\n",
            "<ipython-input-18-676ed8a9fd5e>:4: FutureWarning: The frame.append method is deprecated and will be removed from pandas in a future version. Use pandas.concat instead.\n",
            "  data = data.append({'Health Issue': disease, 'Medicine': medicine}, ignore_index=True)\n",
            "<ipython-input-18-676ed8a9fd5e>:4: FutureWarning: The frame.append method is deprecated and will be removed from pandas in a future version. Use pandas.concat instead.\n",
            "  data = data.append({'Health Issue': disease, 'Medicine': medicine}, ignore_index=True)\n",
            "<ipython-input-18-676ed8a9fd5e>:4: FutureWarning: The frame.append method is deprecated and will be removed from pandas in a future version. Use pandas.concat instead.\n",
            "  data = data.append({'Health Issue': disease, 'Medicine': medicine}, ignore_index=True)\n",
            "<ipython-input-18-676ed8a9fd5e>:4: FutureWarning: The frame.append method is deprecated and will be removed from pandas in a future version. Use pandas.concat instead.\n",
            "  data = data.append({'Health Issue': disease, 'Medicine': medicine}, ignore_index=True)\n",
            "<ipython-input-18-676ed8a9fd5e>:4: FutureWarning: The frame.append method is deprecated and will be removed from pandas in a future version. Use pandas.concat instead.\n",
            "  data = data.append({'Health Issue': disease, 'Medicine': medicine}, ignore_index=True)\n",
            "<ipython-input-18-676ed8a9fd5e>:4: FutureWarning: The frame.append method is deprecated and will be removed from pandas in a future version. Use pandas.concat instead.\n",
            "  data = data.append({'Health Issue': disease, 'Medicine': medicine}, ignore_index=True)\n",
            "<ipython-input-18-676ed8a9fd5e>:4: FutureWarning: The frame.append method is deprecated and will be removed from pandas in a future version. Use pandas.concat instead.\n",
            "  data = data.append({'Health Issue': disease, 'Medicine': medicine}, ignore_index=True)\n",
            "<ipython-input-18-676ed8a9fd5e>:4: FutureWarning: The frame.append method is deprecated and will be removed from pandas in a future version. Use pandas.concat instead.\n",
            "  data = data.append({'Health Issue': disease, 'Medicine': medicine}, ignore_index=True)\n",
            "<ipython-input-18-676ed8a9fd5e>:4: FutureWarning: The frame.append method is deprecated and will be removed from pandas in a future version. Use pandas.concat instead.\n",
            "  data = data.append({'Health Issue': disease, 'Medicine': medicine}, ignore_index=True)\n",
            "<ipython-input-18-676ed8a9fd5e>:4: FutureWarning: The frame.append method is deprecated and will be removed from pandas in a future version. Use pandas.concat instead.\n",
            "  data = data.append({'Health Issue': disease, 'Medicine': medicine}, ignore_index=True)\n",
            "<ipython-input-18-676ed8a9fd5e>:4: FutureWarning: The frame.append method is deprecated and will be removed from pandas in a future version. Use pandas.concat instead.\n",
            "  data = data.append({'Health Issue': disease, 'Medicine': medicine}, ignore_index=True)\n",
            "<ipython-input-18-676ed8a9fd5e>:4: FutureWarning: The frame.append method is deprecated and will be removed from pandas in a future version. Use pandas.concat instead.\n",
            "  data = data.append({'Health Issue': disease, 'Medicine': medicine}, ignore_index=True)\n",
            "<ipython-input-18-676ed8a9fd5e>:4: FutureWarning: The frame.append method is deprecated and will be removed from pandas in a future version. Use pandas.concat instead.\n",
            "  data = data.append({'Health Issue': disease, 'Medicine': medicine}, ignore_index=True)\n",
            "<ipython-input-18-676ed8a9fd5e>:4: FutureWarning: The frame.append method is deprecated and will be removed from pandas in a future version. Use pandas.concat instead.\n",
            "  data = data.append({'Health Issue': disease, 'Medicine': medicine}, ignore_index=True)\n",
            "<ipython-input-18-676ed8a9fd5e>:4: FutureWarning: The frame.append method is deprecated and will be removed from pandas in a future version. Use pandas.concat instead.\n",
            "  data = data.append({'Health Issue': disease, 'Medicine': medicine}, ignore_index=True)\n",
            "<ipython-input-18-676ed8a9fd5e>:4: FutureWarning: The frame.append method is deprecated and will be removed from pandas in a future version. Use pandas.concat instead.\n",
            "  data = data.append({'Health Issue': disease, 'Medicine': medicine}, ignore_index=True)\n",
            "<ipython-input-18-676ed8a9fd5e>:4: FutureWarning: The frame.append method is deprecated and will be removed from pandas in a future version. Use pandas.concat instead.\n",
            "  data = data.append({'Health Issue': disease, 'Medicine': medicine}, ignore_index=True)\n",
            "<ipython-input-18-676ed8a9fd5e>:4: FutureWarning: The frame.append method is deprecated and will be removed from pandas in a future version. Use pandas.concat instead.\n",
            "  data = data.append({'Health Issue': disease, 'Medicine': medicine}, ignore_index=True)\n",
            "<ipython-input-18-676ed8a9fd5e>:4: FutureWarning: The frame.append method is deprecated and will be removed from pandas in a future version. Use pandas.concat instead.\n",
            "  data = data.append({'Health Issue': disease, 'Medicine': medicine}, ignore_index=True)\n",
            "<ipython-input-18-676ed8a9fd5e>:4: FutureWarning: The frame.append method is deprecated and will be removed from pandas in a future version. Use pandas.concat instead.\n",
            "  data = data.append({'Health Issue': disease, 'Medicine': medicine}, ignore_index=True)\n",
            "<ipython-input-18-676ed8a9fd5e>:4: FutureWarning: The frame.append method is deprecated and will be removed from pandas in a future version. Use pandas.concat instead.\n",
            "  data = data.append({'Health Issue': disease, 'Medicine': medicine}, ignore_index=True)\n",
            "<ipython-input-18-676ed8a9fd5e>:4: FutureWarning: The frame.append method is deprecated and will be removed from pandas in a future version. Use pandas.concat instead.\n",
            "  data = data.append({'Health Issue': disease, 'Medicine': medicine}, ignore_index=True)\n",
            "<ipython-input-18-676ed8a9fd5e>:4: FutureWarning: The frame.append method is deprecated and will be removed from pandas in a future version. Use pandas.concat instead.\n",
            "  data = data.append({'Health Issue': disease, 'Medicine': medicine}, ignore_index=True)\n",
            "<ipython-input-18-676ed8a9fd5e>:4: FutureWarning: The frame.append method is deprecated and will be removed from pandas in a future version. Use pandas.concat instead.\n",
            "  data = data.append({'Health Issue': disease, 'Medicine': medicine}, ignore_index=True)\n",
            "<ipython-input-18-676ed8a9fd5e>:4: FutureWarning: The frame.append method is deprecated and will be removed from pandas in a future version. Use pandas.concat instead.\n",
            "  data = data.append({'Health Issue': disease, 'Medicine': medicine}, ignore_index=True)\n",
            "<ipython-input-18-676ed8a9fd5e>:4: FutureWarning: The frame.append method is deprecated and will be removed from pandas in a future version. Use pandas.concat instead.\n",
            "  data = data.append({'Health Issue': disease, 'Medicine': medicine}, ignore_index=True)\n",
            "<ipython-input-18-676ed8a9fd5e>:4: FutureWarning: The frame.append method is deprecated and will be removed from pandas in a future version. Use pandas.concat instead.\n",
            "  data = data.append({'Health Issue': disease, 'Medicine': medicine}, ignore_index=True)\n",
            "<ipython-input-18-676ed8a9fd5e>:4: FutureWarning: The frame.append method is deprecated and will be removed from pandas in a future version. Use pandas.concat instead.\n",
            "  data = data.append({'Health Issue': disease, 'Medicine': medicine}, ignore_index=True)\n",
            "<ipython-input-18-676ed8a9fd5e>:4: FutureWarning: The frame.append method is deprecated and will be removed from pandas in a future version. Use pandas.concat instead.\n",
            "  data = data.append({'Health Issue': disease, 'Medicine': medicine}, ignore_index=True)\n",
            "<ipython-input-18-676ed8a9fd5e>:4: FutureWarning: The frame.append method is deprecated and will be removed from pandas in a future version. Use pandas.concat instead.\n",
            "  data = data.append({'Health Issue': disease, 'Medicine': medicine}, ignore_index=True)\n",
            "<ipython-input-18-676ed8a9fd5e>:4: FutureWarning: The frame.append method is deprecated and will be removed from pandas in a future version. Use pandas.concat instead.\n",
            "  data = data.append({'Health Issue': disease, 'Medicine': medicine}, ignore_index=True)\n",
            "<ipython-input-18-676ed8a9fd5e>:4: FutureWarning: The frame.append method is deprecated and will be removed from pandas in a future version. Use pandas.concat instead.\n",
            "  data = data.append({'Health Issue': disease, 'Medicine': medicine}, ignore_index=True)\n",
            "<ipython-input-18-676ed8a9fd5e>:4: FutureWarning: The frame.append method is deprecated and will be removed from pandas in a future version. Use pandas.concat instead.\n",
            "  data = data.append({'Health Issue': disease, 'Medicine': medicine}, ignore_index=True)\n",
            "<ipython-input-18-676ed8a9fd5e>:4: FutureWarning: The frame.append method is deprecated and will be removed from pandas in a future version. Use pandas.concat instead.\n",
            "  data = data.append({'Health Issue': disease, 'Medicine': medicine}, ignore_index=True)\n",
            "<ipython-input-18-676ed8a9fd5e>:4: FutureWarning: The frame.append method is deprecated and will be removed from pandas in a future version. Use pandas.concat instead.\n",
            "  data = data.append({'Health Issue': disease, 'Medicine': medicine}, ignore_index=True)\n",
            "<ipython-input-18-676ed8a9fd5e>:4: FutureWarning: The frame.append method is deprecated and will be removed from pandas in a future version. Use pandas.concat instead.\n",
            "  data = data.append({'Health Issue': disease, 'Medicine': medicine}, ignore_index=True)\n",
            "<ipython-input-18-676ed8a9fd5e>:4: FutureWarning: The frame.append method is deprecated and will be removed from pandas in a future version. Use pandas.concat instead.\n",
            "  data = data.append({'Health Issue': disease, 'Medicine': medicine}, ignore_index=True)\n",
            "<ipython-input-18-676ed8a9fd5e>:4: FutureWarning: The frame.append method is deprecated and will be removed from pandas in a future version. Use pandas.concat instead.\n",
            "  data = data.append({'Health Issue': disease, 'Medicine': medicine}, ignore_index=True)\n",
            "<ipython-input-18-676ed8a9fd5e>:4: FutureWarning: The frame.append method is deprecated and will be removed from pandas in a future version. Use pandas.concat instead.\n",
            "  data = data.append({'Health Issue': disease, 'Medicine': medicine}, ignore_index=True)\n",
            "<ipython-input-18-676ed8a9fd5e>:4: FutureWarning: The frame.append method is deprecated and will be removed from pandas in a future version. Use pandas.concat instead.\n",
            "  data = data.append({'Health Issue': disease, 'Medicine': medicine}, ignore_index=True)\n",
            "<ipython-input-18-676ed8a9fd5e>:4: FutureWarning: The frame.append method is deprecated and will be removed from pandas in a future version. Use pandas.concat instead.\n",
            "  data = data.append({'Health Issue': disease, 'Medicine': medicine}, ignore_index=True)\n",
            "<ipython-input-18-676ed8a9fd5e>:4: FutureWarning: The frame.append method is deprecated and will be removed from pandas in a future version. Use pandas.concat instead.\n",
            "  data = data.append({'Health Issue': disease, 'Medicine': medicine}, ignore_index=True)\n",
            "<ipython-input-18-676ed8a9fd5e>:4: FutureWarning: The frame.append method is deprecated and will be removed from pandas in a future version. Use pandas.concat instead.\n",
            "  data = data.append({'Health Issue': disease, 'Medicine': medicine}, ignore_index=True)\n",
            "<ipython-input-18-676ed8a9fd5e>:4: FutureWarning: The frame.append method is deprecated and will be removed from pandas in a future version. Use pandas.concat instead.\n",
            "  data = data.append({'Health Issue': disease, 'Medicine': medicine}, ignore_index=True)\n",
            "<ipython-input-18-676ed8a9fd5e>:4: FutureWarning: The frame.append method is deprecated and will be removed from pandas in a future version. Use pandas.concat instead.\n",
            "  data = data.append({'Health Issue': disease, 'Medicine': medicine}, ignore_index=True)\n",
            "<ipython-input-18-676ed8a9fd5e>:4: FutureWarning: The frame.append method is deprecated and will be removed from pandas in a future version. Use pandas.concat instead.\n",
            "  data = data.append({'Health Issue': disease, 'Medicine': medicine}, ignore_index=True)\n",
            "<ipython-input-18-676ed8a9fd5e>:4: FutureWarning: The frame.append method is deprecated and will be removed from pandas in a future version. Use pandas.concat instead.\n",
            "  data = data.append({'Health Issue': disease, 'Medicine': medicine}, ignore_index=True)\n",
            "<ipython-input-18-676ed8a9fd5e>:4: FutureWarning: The frame.append method is deprecated and will be removed from pandas in a future version. Use pandas.concat instead.\n",
            "  data = data.append({'Health Issue': disease, 'Medicine': medicine}, ignore_index=True)\n",
            "<ipython-input-18-676ed8a9fd5e>:4: FutureWarning: The frame.append method is deprecated and will be removed from pandas in a future version. Use pandas.concat instead.\n",
            "  data = data.append({'Health Issue': disease, 'Medicine': medicine}, ignore_index=True)\n",
            "<ipython-input-18-676ed8a9fd5e>:4: FutureWarning: The frame.append method is deprecated and will be removed from pandas in a future version. Use pandas.concat instead.\n",
            "  data = data.append({'Health Issue': disease, 'Medicine': medicine}, ignore_index=True)\n",
            "<ipython-input-18-676ed8a9fd5e>:4: FutureWarning: The frame.append method is deprecated and will be removed from pandas in a future version. Use pandas.concat instead.\n",
            "  data = data.append({'Health Issue': disease, 'Medicine': medicine}, ignore_index=True)\n",
            "<ipython-input-18-676ed8a9fd5e>:4: FutureWarning: The frame.append method is deprecated and will be removed from pandas in a future version. Use pandas.concat instead.\n",
            "  data = data.append({'Health Issue': disease, 'Medicine': medicine}, ignore_index=True)\n",
            "<ipython-input-18-676ed8a9fd5e>:4: FutureWarning: The frame.append method is deprecated and will be removed from pandas in a future version. Use pandas.concat instead.\n",
            "  data = data.append({'Health Issue': disease, 'Medicine': medicine}, ignore_index=True)\n"
          ]
        }
      ]
    },
    {
      "cell_type": "code",
      "source": [
        "data.to_csv('medicine_dataset.csv', index=False)"
      ],
      "metadata": {
        "id": "pbyeSowRn7bV"
      },
      "execution_count": null,
      "outputs": []
    },
    {
      "cell_type": "code",
      "source": [
        "data = pd.read_csv('medicine_dataset.csv')"
      ],
      "metadata": {
        "id": "sAhN8gqTn7ea"
      },
      "execution_count": null,
      "outputs": []
    },
    {
      "cell_type": "code",
      "source": [
        "X = data['Health Issue']\n",
        "y = data['Medicine']\n"
      ],
      "metadata": {
        "id": "wrtNyGujwf71"
      },
      "execution_count": null,
      "outputs": []
    },
    {
      "cell_type": "code",
      "source": [
        "# Split the dataset into training and testing sets\n",
        "X = data['Health Issue']\n",
        "y = data['Medicine']\n",
        "X_train, X_test, y_train, y_test = train_test_split(X, y, test_size=0.2, random_state=42)"
      ],
      "metadata": {
        "id": "oJfdDvkfn7ha"
      },
      "execution_count": null,
      "outputs": []
    },
    {
      "cell_type": "code",
      "source": [
        "vectorizer = TfidfVectorizer()\n",
        "X_train_vectorized = vectorizer.fit_transform(X_train)\n",
        "X_test_vectorized = vectorizer.transform(X_test)\n"
      ],
      "metadata": {
        "id": "PQdGbMNjwOBH"
      },
      "execution_count": null,
      "outputs": []
    },
    {
      "cell_type": "code",
      "source": [
        "model = DecisionTreeClassifier()\n",
        "model.fit(X_train_vectorized, y_train)\n"
      ],
      "metadata": {
        "colab": {
          "base_uri": "https://localhost:8080/",
          "height": 74
        },
        "id": "ZdMMt_zdwOE_",
        "outputId": "b504f71c-1783-4673-9fa7-4e1319a5b926"
      },
      "execution_count": null,
      "outputs": [
        {
          "output_type": "execute_result",
          "data": {
            "text/plain": [
              "DecisionTreeClassifier()"
            ],
            "text/html": [
              "<style>#sk-container-id-1 {color: black;background-color: white;}#sk-container-id-1 pre{padding: 0;}#sk-container-id-1 div.sk-toggleable {background-color: white;}#sk-container-id-1 label.sk-toggleable__label {cursor: pointer;display: block;width: 100%;margin-bottom: 0;padding: 0.3em;box-sizing: border-box;text-align: center;}#sk-container-id-1 label.sk-toggleable__label-arrow:before {content: \"▸\";float: left;margin-right: 0.25em;color: #696969;}#sk-container-id-1 label.sk-toggleable__label-arrow:hover:before {color: black;}#sk-container-id-1 div.sk-estimator:hover label.sk-toggleable__label-arrow:before {color: black;}#sk-container-id-1 div.sk-toggleable__content {max-height: 0;max-width: 0;overflow: hidden;text-align: left;background-color: #f0f8ff;}#sk-container-id-1 div.sk-toggleable__content pre {margin: 0.2em;color: black;border-radius: 0.25em;background-color: #f0f8ff;}#sk-container-id-1 input.sk-toggleable__control:checked~div.sk-toggleable__content {max-height: 200px;max-width: 100%;overflow: auto;}#sk-container-id-1 input.sk-toggleable__control:checked~label.sk-toggleable__label-arrow:before {content: \"▾\";}#sk-container-id-1 div.sk-estimator input.sk-toggleable__control:checked~label.sk-toggleable__label {background-color: #d4ebff;}#sk-container-id-1 div.sk-label input.sk-toggleable__control:checked~label.sk-toggleable__label {background-color: #d4ebff;}#sk-container-id-1 input.sk-hidden--visually {border: 0;clip: rect(1px 1px 1px 1px);clip: rect(1px, 1px, 1px, 1px);height: 1px;margin: -1px;overflow: hidden;padding: 0;position: absolute;width: 1px;}#sk-container-id-1 div.sk-estimator {font-family: monospace;background-color: #f0f8ff;border: 1px dotted black;border-radius: 0.25em;box-sizing: border-box;margin-bottom: 0.5em;}#sk-container-id-1 div.sk-estimator:hover {background-color: #d4ebff;}#sk-container-id-1 div.sk-parallel-item::after {content: \"\";width: 100%;border-bottom: 1px solid gray;flex-grow: 1;}#sk-container-id-1 div.sk-label:hover label.sk-toggleable__label {background-color: #d4ebff;}#sk-container-id-1 div.sk-serial::before {content: \"\";position: absolute;border-left: 1px solid gray;box-sizing: border-box;top: 0;bottom: 0;left: 50%;z-index: 0;}#sk-container-id-1 div.sk-serial {display: flex;flex-direction: column;align-items: center;background-color: white;padding-right: 0.2em;padding-left: 0.2em;position: relative;}#sk-container-id-1 div.sk-item {position: relative;z-index: 1;}#sk-container-id-1 div.sk-parallel {display: flex;align-items: stretch;justify-content: center;background-color: white;position: relative;}#sk-container-id-1 div.sk-item::before, #sk-container-id-1 div.sk-parallel-item::before {content: \"\";position: absolute;border-left: 1px solid gray;box-sizing: border-box;top: 0;bottom: 0;left: 50%;z-index: -1;}#sk-container-id-1 div.sk-parallel-item {display: flex;flex-direction: column;z-index: 1;position: relative;background-color: white;}#sk-container-id-1 div.sk-parallel-item:first-child::after {align-self: flex-end;width: 50%;}#sk-container-id-1 div.sk-parallel-item:last-child::after {align-self: flex-start;width: 50%;}#sk-container-id-1 div.sk-parallel-item:only-child::after {width: 0;}#sk-container-id-1 div.sk-dashed-wrapped {border: 1px dashed gray;margin: 0 0.4em 0.5em 0.4em;box-sizing: border-box;padding-bottom: 0.4em;background-color: white;}#sk-container-id-1 div.sk-label label {font-family: monospace;font-weight: bold;display: inline-block;line-height: 1.2em;}#sk-container-id-1 div.sk-label-container {text-align: center;}#sk-container-id-1 div.sk-container {/* jupyter's `normalize.less` sets `[hidden] { display: none; }` but bootstrap.min.css set `[hidden] { display: none !important; }` so we also need the `!important` here to be able to override the default hidden behavior on the sphinx rendered scikit-learn.org. See: https://github.com/scikit-learn/scikit-learn/issues/21755 */display: inline-block !important;position: relative;}#sk-container-id-1 div.sk-text-repr-fallback {display: none;}</style><div id=\"sk-container-id-1\" class=\"sk-top-container\"><div class=\"sk-text-repr-fallback\"><pre>DecisionTreeClassifier()</pre><b>In a Jupyter environment, please rerun this cell to show the HTML representation or trust the notebook. <br />On GitHub, the HTML representation is unable to render, please try loading this page with nbviewer.org.</b></div><div class=\"sk-container\" hidden><div class=\"sk-item\"><div class=\"sk-estimator sk-toggleable\"><input class=\"sk-toggleable__control sk-hidden--visually\" id=\"sk-estimator-id-1\" type=\"checkbox\" checked><label for=\"sk-estimator-id-1\" class=\"sk-toggleable__label sk-toggleable__label-arrow\">DecisionTreeClassifier</label><div class=\"sk-toggleable__content\"><pre>DecisionTreeClassifier()</pre></div></div></div></div></div>"
            ]
          },
          "metadata": {},
          "execution_count": 24
        }
      ]
    },
    {
      "cell_type": "code",
      "source": [
        "def predict_medicine(health_issue):\n",
        "    issue_vectorized = vectorizer.transform([health_issue])\n",
        "    medicine = model.predict(issue_vectorized)\n",
        "    return medicine[0]\n"
      ],
      "metadata": {
        "id": "59Qy7U_vwOIS"
      },
      "execution_count": null,
      "outputs": []
    },
    {
      "cell_type": "code",
      "source": [
        "test_health_issue = \"Headache\"\n",
        "predicted_medicine = predict_medicine(test_health_issue)\n",
        "print(\"Predicted medicine for '{}' is '{}'.\".format(test_health_issue, predicted_medicine))\n"
      ],
      "metadata": {
        "colab": {
          "base_uri": "https://localhost:8080/"
        },
        "id": "uZGUmjeHxFin",
        "outputId": "bacf59ea-6bee-4258-f405-0125b27fb242"
      },
      "execution_count": null,
      "outputs": [
        {
          "output_type": "stream",
          "name": "stdout",
          "text": [
            "Predicted medicine for 'Headache' is 'Anticoagulants'.\n"
          ]
        }
      ]
    },
    {
      "cell_type": "code",
      "source": [
        "\n",
        "test_health_issue =     \"Common cold\"\n",
        "predicted_medicine = predict_medicine(test_health_issue)\n",
        "print(\"Predicted medicine for '{}' is '{}'.\".format(test_health_issue, predicted_medicine))\n"
      ],
      "metadata": {
        "colab": {
          "base_uri": "https://localhost:8080/"
        },
        "outputId": "7a1cd179-6bae-42e9-d4e0-89044b97020b",
        "id": "sKwCz8smxNPz"
      },
      "execution_count": null,
      "outputs": [
        {
          "output_type": "stream",
          "name": "stdout",
          "text": [
            "Predicted medicine for 'Common cold' is 'Cough syrup'.\n"
          ]
        }
      ]
    },
    {
      "cell_type": "code",
      "source": [
        "\n",
        "test_health_issue =     \"Ear infection\"\n",
        "predicted_medicine = predict_medicine(test_health_issue)\n",
        "print(\"Predicted medicine for '{}' is '{}'.\".format(test_health_issue, predicted_medicine))\n"
      ],
      "metadata": {
        "colab": {
          "base_uri": "https://localhost:8080/"
        },
        "outputId": "6a3a720f-45cd-49db-ad66-0e50d3de1574",
        "id": "rwBkDeEIxsJJ"
      },
      "execution_count": null,
      "outputs": [
        {
          "output_type": "stream",
          "name": "stdout",
          "text": [
            "Predicted medicine for 'Ear infection' is 'Anticoagulants'.\n"
          ]
        }
      ]
    },
    {
      "cell_type": "code",
      "source": [
        "\n",
        "test_health_issue =  \"Hives\"\n",
        "predicted_medicine = predict_medicine(test_health_issue)\n",
        "print(\"Predicted medicine for '{}' is '{}'.\".format(test_health_issue, predicted_medicine))\n"
      ],
      "metadata": {
        "colab": {
          "base_uri": "https://localhost:8080/"
        },
        "outputId": "73537b32-0e7d-40bb-c0cf-442198a48f00",
        "id": "zNm--emtxtPy"
      },
      "execution_count": null,
      "outputs": [
        {
          "output_type": "stream",
          "name": "stdout",
          "text": [
            "Predicted medicine for 'Hives' is 'Antiviral medication'.\n"
          ]
        }
      ]
    },
    {
      "cell_type": "code",
      "source": [
        "\n",
        "test_health_issue =  \" Kidney cancer\"\n",
        "predicted_medicine = predict_medicine(test_health_issue)\n",
        "print(\"Predicted medicine for '{}' is '{}'.\".format(test_health_issue, predicted_medicine))\n"
      ],
      "metadata": {
        "colab": {
          "base_uri": "https://localhost:8080/"
        },
        "outputId": "6905490f-ffec-442e-d671-e051c7be2343",
        "id": "4vO9QuYbyG-y"
      },
      "execution_count": null,
      "outputs": [
        {
          "output_type": "stream",
          "name": "stdout",
          "text": [
            "Predicted medicine for ' Kidney cancer' is 'Antiretroviral therapy'.\n"
          ]
        }
      ]
    }
  ]
}